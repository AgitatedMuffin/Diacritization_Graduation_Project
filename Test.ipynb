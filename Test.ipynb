{
 "cells": [
  {
   "cell_type": "markdown",
   "id": "dc70f934",
   "metadata": {},
   "source": [
    "# Basic SetUp"
   ]
  },
  {
   "cell_type": "code",
   "execution_count": 1,
   "id": "5cd91a62",
   "metadata": {},
   "outputs": [
    {
     "name": "stderr",
     "output_type": "stream",
     "text": [
      "Special tokens have been added in the vocabulary, make sure the associated word embeddings are fine-tuned or trained.\n",
      "Special tokens have been added in the vocabulary, make sure the associated word embeddings are fine-tuned or trained.\n"
     ]
    }
   ],
   "source": [
    "from transformers import pipeline\n",
    "from transformers import RobertaTokenizerFast\n",
    "roberta_tokenizer = RobertaTokenizerFast.from_pretrained('./tokenizer')\n",
    "\n",
    "arabic_letters = ['أ','ة','إ','ؤ','آ','ا','ب','ت', 'ث','ج','ح','خ','د','ذ','ر','ز','س','ش','ص','ض','ط','ظ','ع','غ','ف','ق','ك','ل','م','ن','ه','و','ي','ئ','ئ','ء']\n",
    "arabic_diac = [\"َ\",\"ً\",\"ِ\",\"ٍ\",\"ُ\",\"ٌ\",\"ْ\",\"َّ\",\"ِّ\",\"ُّ\"]\n",
    "\n",
    "# Adding the tokens by hand\n",
    "roberta_tokenizer.add_tokens(arabic_diac)\n",
    "roberta_tokenizer.add_tokens(\" \")\n",
    "roberta_tokenizer.add_tokens(arabic_letters)\n",
    "\n",
    "# Creating the fill_mask pipeline \n",
    "# When you call it like this fill_mask(انا ا<maks>) it fills the mask\n",
    "fill_mask = pipeline(\n",
    "    \"fill-mask\",\n",
    "    model=\"./model/\",\n",
    "    tokenizer=roberta_tokenizer\n",
    ")"
   ]
  },
  {
   "cell_type": "markdown",
   "id": "c8194efe",
   "metadata": {},
   "source": [
    "## The diacritize method already removes the diacritics from any sentence but this is just to show you what it does\n",
    "The passes is the number of times it goes through the model, we found that 3 passes is usually the sweet spot for the data."
   ]
  },
  {
   "cell_type": "code",
   "execution_count": 2,
   "id": "b8d8f9ba",
   "metadata": {},
   "outputs": [
    {
     "name": "stdout",
     "output_type": "stream",
     "text": [
      "وأجاز أكثرهم الفرق\n",
      "وَأَجَاَزَ أَكْثَرَهُمْ اَلْفَرْقَ\n"
     ]
    }
   ],
   "source": [
    "from utils import diacritize,_remove_diac\n",
    "\n",
    "original = 'وَأَجَازَ أَكْثَرُهُمْ الفَرْقَ'\n",
    "undiacritized = _remove_diac(original,isDataset=False)['text']\n",
    "print(undiacritized)\n",
    "prediction= diacritize(undiacritized,fill_mask,passes=3,isDataset=False)\n",
    "print(prediction)"
   ]
  },
  {
   "cell_type": "code",
   "execution_count": 3,
   "id": "327b05b2",
   "metadata": {},
   "outputs": [],
   "source": [
    "diac = [x for x in original if x in [\"َ\", \"ً\", \"ِ\", \"ٍ\", \"ُ\", \"ٌ\", \"ْ\", \"َّ\", \"ِّ\", \"ُّ\", \"ّ\"]]"
   ]
  },
  {
   "cell_type": "code",
   "execution_count": 4,
   "id": "fa0004f4",
   "metadata": {},
   "outputs": [
    {
     "data": {
      "text/plain": [
       "['َ', 'َ', 'َ', 'َ', 'َ', 'ْ', 'َ', 'ُ', 'ُ', 'ْ', 'َ', 'ْ', 'َ']"
      ]
     },
     "execution_count": 4,
     "metadata": {},
     "output_type": "execute_result"
    }
   ],
   "source": [
    "diac"
   ]
  },
  {
   "cell_type": "code",
   "execution_count": 5,
   "id": "7fc5bffb",
   "metadata": {},
   "outputs": [],
   "source": [
    "from pathlib import Path\n",
    "paths_test = [str(x) for x in Path(\"./data/tashkeela_test/\").glob(\"*.txt\")]"
   ]
  },
  {
   "cell_type": "code",
   "execution_count": 6,
   "id": "53d97c97",
   "metadata": {},
   "outputs": [
    {
     "name": "stderr",
     "output_type": "stream",
     "text": [
      "Using custom data configuration default-78fcaec21dbfc73e\n",
      "Reusing dataset text (/home/peter/.cache/huggingface/datasets/text/default-78fcaec21dbfc73e/0.0.0/e16f44aa1b321ece1f87b07977cc5d70be93d69b20486d6dacd62e12cf25c9a5)\n"
     ]
    }
   ],
   "source": [
    "from datasets import load_dataset\n",
    "\n",
    "eval_dataset = load_dataset('text',data_files=paths_test, split='train')"
   ]
  },
  {
   "cell_type": "code",
   "execution_count": 12,
   "id": "3314e21c",
   "metadata": {},
   "outputs": [],
   "source": [
    "def get_diacs(sentence):\n",
    "    diacs=[]\n",
    "    chars = [char for char in sentence]\n",
    "    for i in range(len(chars)):\n",
    "        if chars[i] in arabic_letters:\n",
    "            if chars[i+1] in arabic_diac:\n",
    "                diacs += [chars[i+1]]\n",
    "            else:\n",
    "                diacs += ['']\n",
    "    return diacs"
   ]
  },
  {
   "cell_type": "code",
   "execution_count": 53,
   "id": "dfe70657",
   "metadata": {},
   "outputs": [],
   "source": [
    "def diac_error_rate(original):\n",
    "    l1= get_diacs(original)\n",
    "    prediction = diacritize(original,fill_mask,passes=3,isDataset=False)\n",
    "    l2= get_diacs(prediction)\n",
    "    length = len(l1)\n",
    "    summation = 0\n",
    "    for i in range(length):\n",
    "        if l1[i]=='':\n",
    "            length-=1\n",
    "        else:\n",
    "            if l1[i]==l2[i]:\n",
    "                summation+=1\n",
    "    return summation,length,summation/length"
   ]
  },
  {
   "cell_type": "code",
   "execution_count": null,
   "id": "4cebd3b3",
   "metadata": {},
   "outputs": [
    {
     "data": {
      "application/vnd.jupyter.widget-view+json": {
       "model_id": "a5368011eed247abb310e7b808485f0b",
       "version_major": 2,
       "version_minor": 0
      },
      "text/plain": [
       "  0%|          | 0/250 [00:00<?, ?it/s]"
      ]
     },
     "metadata": {},
     "output_type": "display_data"
    }
   ],
   "source": [
    "from tqdm.auto import tqdm\n",
    "iterations = 250\n",
    "progress_bar = tqdm(range(iterations))\n",
    "\n",
    "max_summation = 0\n",
    "max_length = 0\n",
    "max_acc = 0\n",
    "for i in range(iterations):\n",
    "    if len(eval_dataset['text'][i])<150:\n",
    "        summ , l , acc = diac_error_rate(eval_dataset['text'][i]) \n",
    "    max_summation+=summ\n",
    "    max_length+= l\n",
    "    max_acc += acc\n",
    "    progress_bar.update(1)"
   ]
  },
  {
   "cell_type": "code",
   "execution_count": null,
   "id": "cd867b78",
   "metadata": {},
   "outputs": [],
   "source": []
  }
 ],
 "metadata": {
  "kernelspec": {
   "display_name": "Python 3",
   "language": "python",
   "name": "python3"
  },
  "language_info": {
   "codemirror_mode": {
    "name": "ipython",
    "version": 3
   },
   "file_extension": ".py",
   "mimetype": "text/x-python",
   "name": "python",
   "nbconvert_exporter": "python",
   "pygments_lexer": "ipython3",
   "version": "3.8.8"
  }
 },
 "nbformat": 4,
 "nbformat_minor": 5
}
